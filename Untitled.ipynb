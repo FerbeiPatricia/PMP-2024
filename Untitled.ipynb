{
 "cells": [
  {
   "cell_type": "code",
   "execution_count": 2,
   "id": "0fa4ce02-0644-4aee-81f8-d00ae89c1218",
   "metadata": {},
   "outputs": [],
   "source": [
    "import csv\n",
    "import random"
   ]
  },
  {
   "cell_type": "code",
   "execution_count": 3,
   "id": "b9a605a2-7e87-4bd2-90c9-2da93d3c0c9b",
   "metadata": {},
   "outputs": [],
   "source": [
    "def select_random_elements_from_csv(file_path, num_elements):\n",
    "    # Citim conținutul fișierului CSV\n",
    "    with open(file_path, newline='') as csvfile:\n",
    "        reader = csv.reader(csvfile)\n",
    "        data_list = [row[0] for row in reader]  # Presupunem că fiecare rând are un singur element\n",
    "\n",
    "    # Verificăm dacă numărul de elemente cerut este mai mic sau egal cu dimensiunea listei\n",
    "    if num_elements > len(data_list):\n",
    "        raise ValueError(\"Numărul de elemente cerut este mai mare decât dimensiunea listei din fișier.\")\n",
    "\n",
    "    # Selectăm un număr de elemente fără repetiție\n",
    "    selected_elements = random.sample(data_list, num_elements)\n",
    "\n",
    "    # Returnăm elementele selectate\n",
    "    return selected_elements\n",
    "\n"
   ]
  },
  {
   "cell_type": "code",
   "execution_count": 7,
   "id": "6c47f7d0-c909-48dd-a2f9-bbd07ab9b07b",
   "metadata": {},
   "outputs": [
    {
     "ename": "ValueError",
     "evalue": "Numărul de elemente cerut este mai mare decât dimensiunea listei din fișier.",
     "output_type": "error",
     "traceback": [
      "\u001b[1;31m---------------------------------------------------------------------------\u001b[0m",
      "\u001b[1;31mValueError\u001b[0m                                Traceback (most recent call last)",
      "Cell \u001b[1;32mIn[7], line 5\u001b[0m\n\u001b[0;32m      2\u001b[0m file_path \u001b[38;5;241m=\u001b[39m \u001b[38;5;124m'\u001b[39m\u001b[38;5;124mlista.csv\u001b[39m\u001b[38;5;124m'\u001b[39m  \u001b[38;5;66;03m# Înlocuiește cu calea reală a fișierului tău\u001b[39;00m\n\u001b[0;32m      3\u001b[0m num_elements \u001b[38;5;241m=\u001b[39m \u001b[38;5;241m1\u001b[39m  \u001b[38;5;66;03m# Numărul de elemente pe care vrem să le selectăm\u001b[39;00m\n\u001b[1;32m----> 5\u001b[0m selected_elements \u001b[38;5;241m=\u001b[39m \u001b[43mselect_random_elements_from_csv\u001b[49m\u001b[43m(\u001b[49m\u001b[43mfile_path\u001b[49m\u001b[43m,\u001b[49m\u001b[43m \u001b[49m\u001b[43mnum_elements\u001b[49m\u001b[43m)\u001b[49m\n\u001b[0;32m      6\u001b[0m \u001b[38;5;28mprint\u001b[39m(\u001b[38;5;124m\"\u001b[39m\u001b[38;5;124mElementele selectate sunt:\u001b[39m\u001b[38;5;124m\"\u001b[39m, selected_elements)\n",
      "Cell \u001b[1;32mIn[3], line 9\u001b[0m, in \u001b[0;36mselect_random_elements_from_csv\u001b[1;34m(file_path, num_elements)\u001b[0m\n\u001b[0;32m      7\u001b[0m \u001b[38;5;66;03m# Verificăm dacă numărul de elemente cerut este mai mic sau egal cu dimensiunea listei\u001b[39;00m\n\u001b[0;32m      8\u001b[0m \u001b[38;5;28;01mif\u001b[39;00m num_elements \u001b[38;5;241m>\u001b[39m \u001b[38;5;28mlen\u001b[39m(data_list):\n\u001b[1;32m----> 9\u001b[0m     \u001b[38;5;28;01mraise\u001b[39;00m \u001b[38;5;167;01mValueError\u001b[39;00m(\u001b[38;5;124m\"\u001b[39m\u001b[38;5;124mNumărul de elemente cerut este mai mare decât dimensiunea listei din fișier.\u001b[39m\u001b[38;5;124m\"\u001b[39m)\n\u001b[0;32m     11\u001b[0m \u001b[38;5;66;03m# Selectăm un număr de elemente fără repetiție\u001b[39;00m\n\u001b[0;32m     12\u001b[0m selected_elements \u001b[38;5;241m=\u001b[39m random\u001b[38;5;241m.\u001b[39msample(data_list, num_elements)\n",
      "\u001b[1;31mValueError\u001b[0m: Numărul de elemente cerut este mai mare decât dimensiunea listei din fișier."
     ]
    }
   ],
   "source": [
    "\n",
    "# Exemplu de utilizare\n",
    "file_path = 'lista.csv'  # Înlocuiește cu calea reală a fișierului tău\n",
    "num_elements = 1  # Numărul de elemente pe care vrem să le selectăm\n",
    "\n",
    "selected_elements = select_random_elements_from_csv(file_path, num_elements)\n",
    "print(\"Elementele selectate sunt:\", selected_elements)\n"
   ]
  },
  {
   "cell_type": "code",
   "execution_count": null,
   "id": "957aa1cb-5913-44c0-b554-234f06185092",
   "metadata": {},
   "outputs": [],
   "source": []
  }
 ],
 "metadata": {
  "kernelspec": {
   "display_name": "Python 3 (ipykernel)",
   "language": "python",
   "name": "python3"
  },
  "language_info": {
   "codemirror_mode": {
    "name": "ipython",
    "version": 3
   },
   "file_extension": ".py",
   "mimetype": "text/x-python",
   "name": "python",
   "nbconvert_exporter": "python",
   "pygments_lexer": "ipython3",
   "version": "3.12.7"
  }
 },
 "nbformat": 4,
 "nbformat_minor": 5
}
