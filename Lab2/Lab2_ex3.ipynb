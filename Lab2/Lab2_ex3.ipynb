{
  "nbformat": 4,
  "nbformat_minor": 0,
  "metadata": {
    "colab": {
      "provenance": [],
      "authorship_tag": "ABX9TyMkp2mIcgREh8ptifVt8U6n",
      "include_colab_link": true
    },
    "kernelspec": {
      "name": "python3",
      "display_name": "Python 3"
    },
    "language_info": {
      "name": "python"
    }
  },
  "cells": [
    {
      "cell_type": "markdown",
      "metadata": {
        "id": "view-in-github",
        "colab_type": "text"
      },
      "source": [
        "<a href=\"https://colab.research.google.com/github/FerbeiPatricia/PMP-2024/blob/main/Lab2_ex3.ipynb\" target=\"_parent\"><img src=\"https://colab.research.google.com/assets/colab-badge.svg\" alt=\"Open In Colab\"/></a>"
      ]
    },
    {
      "cell_type": "code",
      "execution_count": null,
      "metadata": {
        "id": "4o8-zrvR9Mcx"
      },
      "outputs": [],
      "source": [
        "import numpy as np\n",
        "import matplotlib.pyplot as plt\n",
        "import arviz as az"
      ]
    },
    {
      "cell_type": "code",
      "source": [
        "\n",
        "# Parametrii pentru distribuțiile exponențiale\n",
        "lambdas = [3, 6, 4]  # ratele λ1 = 3, λ2 = 6, λ3 = 4\n",
        "probabilities = [3/13, 6/13, 4/13]  # probabilitățile corespunzătoare fiecărui frizer\n"
      ],
      "metadata": {
        "id": "UxZ5Vnuy9Ndh"
      },
      "execution_count": null,
      "outputs": []
    },
    {
      "cell_type": "code",
      "source": [
        "\n",
        "# Generăm 10.000 de mostre pentru timpul de servire X\n",
        "n_samples = 10000\n"
      ],
      "metadata": {
        "id": "L4rYC1jB9Qhh"
      },
      "execution_count": null,
      "outputs": []
    },
    {
      "cell_type": "code",
      "source": [
        "\n",
        "# Alegem frizerul în funcție de probabilități\n",
        "choices = np.random.choice([0, 1, 2], size=n_samples, p=probabilities)\n",
        "\n"
      ],
      "metadata": {
        "id": "nOReVWCf9TEl"
      },
      "execution_count": null,
      "outputs": []
    },
    {
      "cell_type": "code",
      "source": [
        "# Inițializăm vectorul de timp de servire\n",
        "X = np.zeros(n_samples)\n",
        "\n"
      ],
      "metadata": {
        "id": "VY8L0_a-9XVt"
      },
      "execution_count": null,
      "outputs": []
    },
    {
      "cell_type": "code",
      "source": [
        "# Generăm timpul de servire X pe baza frizerului ales\n",
        "for i, lam in enumerate(lambdas):\n",
        "    X[choices == i] = np.random.exponential(scale=1/lam, size=np.sum(choices == i))\n",
        "\n",
        "# Calculăm media și deviația standard a timpilor de servire X\n",
        "mean_X = np.mean(X)\n",
        "std_X = np.std(X)\n",
        "\n"
      ],
      "metadata": {
        "id": "HDoSC28n9b15"
      },
      "execution_count": null,
      "outputs": []
    },
    {
      "cell_type": "code",
      "source": [
        "# Afișăm rezultatele\n",
        "print(f\"Media estimată a lui X: {mean_X:.3f} ore\")\n",
        "print(f\"Deviația standard estimată a lui X: {std_X:.3f} ore\")\n",
        "\n"
      ],
      "metadata": {
        "id": "3-o2beYV9eIH"
      },
      "execution_count": null,
      "outputs": []
    },
    {
      "cell_type": "code",
      "source": [
        "# Graficul densității aproximative a distribuției lui X\n",
        "az.plot_kde(X, label='Densitatea estimată', bw=0.1)\n",
        "plt.title('Densitatea aproximativă a timpului de servire (X)')\n",
        "plt.xlabel('Timp (ore)')\n",
        "plt.ylabel('Densitate')\n",
        "plt.legend()\n",
        "plt.show()\n"
      ],
      "metadata": {
        "id": "kXlP8COB9i8C"
      },
      "execution_count": null,
      "outputs": []
    }
  ]
}