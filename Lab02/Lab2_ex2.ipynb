{
  "nbformat": 4,
  "nbformat_minor": 0,
  "metadata": {
    "colab": {
      "provenance": [],
      "authorship_tag": "ABX9TyOyvEGoOD8Kou1Iz6wkSQC3",
      "include_colab_link": true
    },
    "kernelspec": {
      "name": "python3",
      "display_name": "Python 3"
    },
    "language_info": {
      "name": "python"
    }
  },
  "cells": [
    {
      "cell_type": "markdown",
      "metadata": {
        "id": "view-in-github",
        "colab_type": "text"
      },
      "source": [
        "<a href=\"https://colab.research.google.com/github/FerbeiPatricia/PMP-2024/blob/main/Lab2_ex2.ipynb\" target=\"_parent\"><img src=\"https://colab.research.google.com/assets/colab-badge.svg\" alt=\"Open In Colab\"/></a>"
      ]
    },
    {
      "cell_type": "code",
      "execution_count": null,
      "metadata": {
        "id": "_KrACGqi8PjR"
      },
      "outputs": [],
      "source": [
        "import random"
      ]
    },
    {
      "cell_type": "code",
      "source": [
        "\n",
        "def simulare_joc():\n",
        "    N = 0  # Numărul de pași\n",
        "    S = 0  # Suma totală\n",
        "\n",
        "    while True:\n",
        "        N += 1\n",
        "        moneda = random.choice(['stemă', 'ban'])\n",
        "\n",
        "        if moneda == 'stemă':\n",
        "            zar = random.randint(1, 6)  # Aruncăm zarul\n",
        "            S += zar - 3  # z - 3 $\n",
        "            break\n",
        "        else:\n",
        "            S -= 0.5  # Pierde 0.5 $ dacă pică ban\n",
        "\n",
        "    return N, S\n"
      ],
      "metadata": {
        "id": "K_vwEvL88VaD"
      },
      "execution_count": null,
      "outputs": []
    },
    {
      "cell_type": "code",
      "source": [
        "\n",
        "# Simulare de exemplu\n",
        "N, S = simulare_joc()\n",
        "print(f\"Numărul de pași: {N}, Suma totală: {S}$\")\n",
        "\n",
        "import matplotlib.pyplot as plt\n",
        "\n",
        "\n",
        "def simulare_multe_jocuri(numar_jocuri):\n",
        "    S_values = []\n",
        "\n",
        "    for _ in range(numar_jocuri):\n",
        "        _, S = simulare_joc()\n",
        "        S_values.append(S)\n",
        "\n",
        "    return S_values\n"
      ],
      "metadata": {
        "id": "fThq7bjT8YOT"
      },
      "execution_count": null,
      "outputs": []
    },
    {
      "cell_type": "code",
      "source": [
        "\n",
        "# Simulăm 10.000 de jocuri\n",
        "numar_jocuri = 10000\n",
        "S_values = simulare_multe_jocuri(numar_jocuri)\n",
        "\n",
        "# Calculăm media lui S\n",
        "media_S = sum(S_values) / len(S_values)\n",
        "print(f\"Media lui S după {numar_jocuri} jocuri: {media_S}$\")\n"
      ],
      "metadata": {
        "id": "AS_8ZoNT8fUh"
      },
      "execution_count": null,
      "outputs": []
    },
    {
      "cell_type": "code",
      "source": [
        "\n",
        "# Afișăm histograma lui S\n",
        "plt.hist(S_values, bins=30, color='lightblue', edgecolor='black')\n",
        "plt.title('Distribuția lui S după 10.000 de jocuri')\n",
        "plt.xlabel('Suma totală ($)')\n",
        "plt.ylabel('Frecvența')\n",
        "plt.show()\n"
      ],
      "metadata": {
        "id": "qqijTtzw8gAU"
      },
      "execution_count": null,
      "outputs": []
    },
    {
      "cell_type": "code",
      "source": [
        "\n",
        "def simulare_joc_masluit(p_stema):\n",
        "    N = 0  # Numărul de pași\n",
        "    S = 0  # Suma totală\n",
        "\n",
        "    while True:\n",
        "        N += 1\n",
        "        moneda = 'stemă' if random.random() < p_stema else 'ban'\n",
        "\n",
        "        if moneda == 'stemă':\n",
        "            zar = random.randint(1, 6)  # Aruncăm zarul\n",
        "            S += zar - 3  # z - 3 $\n",
        "            break\n",
        "        else:\n",
        "            S -= 0.5  # Pierde 0.5 $ dacă pică ban\n",
        "\n",
        "    return N, S\n"
      ],
      "metadata": {
        "id": "m8yCpWAq8oNg"
      },
      "execution_count": null,
      "outputs": []
    },
    {
      "cell_type": "code",
      "source": [
        "\n",
        "def simulare_multe_jocuri_masluite(numar_jocuri, p_stema):\n",
        "    S_values = []\n",
        "\n",
        "    for _ in range(numar_jocuri):\n",
        "        _, S = simulare_joc_masluit(p_stema)\n",
        "        S_values.append(S)\n",
        "\n",
        "    return S_values\n",
        "\n"
      ],
      "metadata": {
        "id": "IuHidURR8rlO"
      },
      "execution_count": null,
      "outputs": []
    },
    {
      "cell_type": "code",
      "source": [
        "\n",
        "# Simulăm pentru probabilitatea stemei p = 0.3 și p = 0.7\n",
        "p_values = [0.3, 0.7]\n",
        "numar_jocuri = 10000\n",
        "\n",
        "for p_stema in p_values:\n",
        "    S_values = simulare_multe_jocuri_masluite(numar_jocuri, p_stema)\n",
        "    media_S = sum(S_values) / len(S_values)\n",
        "    print(f\"Media lui S pentru p_stema = {p_stema}: {media_S}$\")\n"
      ],
      "metadata": {
        "id": "10Y8mb4e8sUi"
      },
      "execution_count": null,
      "outputs": []
    },
    {
      "cell_type": "code",
      "source": [
        "\n",
        "    # Afișăm histograma lui S\n",
        "    plt.hist(S_values, bins=30, color='lightblue', edgecolor='black')\n",
        "    plt.title(f'Distribuția lui S pentru p_stema = {p_stema}')\n",
        "    plt.xlabel('Suma totală ($)')\n",
        "    plt.ylabel('Frecvența')\n",
        "    plt.show()\n"
      ],
      "metadata": {
        "id": "BdsoKj2C8vFc"
      },
      "execution_count": null,
      "outputs": []
    }
  ]
}