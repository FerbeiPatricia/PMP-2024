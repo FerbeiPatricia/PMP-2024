{
  "nbformat": 4,
  "nbformat_minor": 0,
  "metadata": {
    "colab": {
      "provenance": [],
      "authorship_tag": "ABX9TyO3UsWoyQcilZZExqOOsfwj",
      "include_colab_link": true
    },
    "kernelspec": {
      "name": "python3",
      "display_name": "Python 3"
    },
    "language_info": {
      "name": "python"
    }
  },
  "cells": [
    {
      "cell_type": "markdown",
      "metadata": {
        "id": "view-in-github",
        "colab_type": "text"
      },
      "source": [
        "<a href=\"https://colab.research.google.com/github/FerbeiPatricia/PMP-2024/blob/main/Lab2_ex1.ipynb\" target=\"_parent\"><img src=\"https://colab.research.google.com/assets/colab-badge.svg\" alt=\"Open In Colab\"/></a>"
      ]
    },
    {
      "cell_type": "code",
      "execution_count": null,
      "metadata": {
        "id": "b-Y9jHfH73LK"
      },
      "outputs": [],
      "source": [
        "import csv\n",
        "import random\n"
      ]
    },
    {
      "cell_type": "code",
      "source": [
        "\n",
        "def select_random_elements_from_csv(file_path, num_elements):\n",
        "    # Citim conținutul fișierului CSV\n",
        "    with open(file_path, newline='') as csvfile:\n",
        "        reader = csv.reader(csvfile)\n",
        "        data_list = [row[0] for row in reader]  # Presupunem că fiecare rând are un singur element\n",
        "\n",
        "    # Verificăm dacă numărul de elemente cerut este mai mic sau egal cu dimensiunea listei\n",
        "    if num_elements > len(data_list):\n",
        "        raise ValueError(\"Numărul de elemente cerut este mai mare decât dimensiunea listei din fișier.\")\n",
        "\n",
        "    # Selectăm un număr de elemente fără repetiție\n",
        "    selected_elements = random.sample(data_list, num_elements)\n",
        "\n",
        "    # Returnăm elementele selectate\n",
        "    return selected_elements\n"
      ],
      "metadata": {
        "id": "yS24-T-Y8B5S"
      },
      "execution_count": null,
      "outputs": []
    },
    {
      "cell_type": "code",
      "source": [
        "\n",
        "# Exemplu de utilizare\n",
        "file_path = 'lista.csv'  \n",
        "num_elements = 2  # Numărul de elemente pe care vrem să le selectăm\n",
        "\n",
        "selected_elements = select_random_elements_from_csv(file_path, num_elements)\n",
        "print(\"Elementele selectate sunt:\", selected_elements)\n"
      ],
      "metadata": {
        "id": "br08JJxR8Gbu"
      },
      "execution_count": null,
      "outputs": []
    }
  ]
}
