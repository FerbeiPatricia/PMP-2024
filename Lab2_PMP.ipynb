{
  "nbformat": 4,
  "nbformat_minor": 0,
  "metadata": {
    "colab": {
      "provenance": [],
      "authorship_tag": "ABX9TyPZcVfcmEcvE2OqJiOigwXO",
      "include_colab_link": true
    },
    "kernelspec": {
      "name": "python3",
      "display_name": "Python 3"
    },
    "language_info": {
      "name": "python"
    }
  },
  "cells": [
    {
      "cell_type": "markdown",
      "metadata": {
        "id": "view-in-github",
        "colab_type": "text"
      },
      "source": [
        "<a href=\"https://colab.research.google.com/github/FerbeiPatricia/PMP-2024/blob/main/Lab2_PMP.ipynb\" target=\"_parent\"><img src=\"https://colab.research.google.com/assets/colab-badge.svg\" alt=\"Open In Colab\"/></a>"
      ]
    },
    {
      "cell_type": "code",
      "execution_count": null,
      "metadata": {
        "colab": {
          "base_uri": "https://localhost:8080/"
        },
        "id": "UbTUyogDR3zu",
        "outputId": "2d33e806-0e85-483d-ef78-8a6984e82d97"
      },
      "outputs": [
        {
          "output_type": "stream",
          "name": "stdout",
          "text": [
            "Probabilitatea estimată de a obține o bilă roșie: 0.0002\n"
          ]
        }
      ],
      "source": [
        "import random\n",
        "\n",
        "def extragere_bila(urna):\n",
        "    total_bile = sum(urna.values())\n",
        "    rand_val = random.randint(1, total_bile)\n",
        "    cumulate = 0\n",
        "    for culoare, numar in urna.items():\n",
        "        cumulate += numar\n",
        "        if rand_val <= cumulate:\n",
        "            return culoare\n",
        "\n",
        "def simulare_experiment(numar_simulari):\n",
        "\n",
        "    urna = {'rosie': 3, 'albastra': 4, 'neagra': 2}\n",
        "\n",
        "    numar_bile_rosii = 0\n",
        "\n",
        "    for _ in range(numar_simulari):\n",
        "\n",
        "        zar = random.randint(1, 6)\n",
        "\n",
        "        if zar in [2, 3, 5]:\n",
        "            urna['neagra'] += 1\n",
        "        elif zar == 6:\n",
        "            urna['rosie'] += 1\n",
        "        else:\n",
        "            urna['albastra'] += 1\n",
        "\n",
        "\n",
        "        bila_extrasa = extragere_bila(urna)\n",
        "\n",
        "        if bila_extrasa == 'rosie':\n",
        "            numar_bile_rosii += 1\n",
        "\n",
        "    probabilitate_estimativa = numar_bile_rosii / numar_simulari\n",
        "    return probabilitate_estimativa\n",
        "\n",
        "numar_simulari = 100000\n",
        "probabilitate_estimata = simulare_experiment(numar_simulari)\n",
        "print(f\"Probabilitatea estimată de a obține o bilă roșie: {probabilitate_estimata:.4f}\")\n"
      ]
    },
    {
      "cell_type": "code",
      "source": [
        "\n",
        "p_prim = 3 / 6\n",
        "p_sase = 1 / 6\n",
        "p_altele = 2 / 6\n",
        "\n",
        "probabilitate_teoretica = (p_prim * (3 / 10)) + (p_sase * (4 / 10)) + (p_altele * (3 / 10))\n",
        "print(f\"Probabilitatea teoretică de a obține o bilă roșie: {probabilitate_teoretica:.4f}\")\n"
      ],
      "metadata": {
        "colab": {
          "base_uri": "https://localhost:8080/"
        },
        "id": "kPREd4xoS4C5",
        "outputId": "6b351c44-d078-4323-9e38-8e086f004e98"
      },
      "execution_count": null,
      "outputs": [
        {
          "output_type": "stream",
          "name": "stdout",
          "text": [
            "Probabilitatea teoretică de a obține o bilă roșie: 0.3167\n"
          ]
        }
      ]
    }
  ]
}